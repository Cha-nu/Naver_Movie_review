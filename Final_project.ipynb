{
  "cells": [
    {
      "cell_type": "code",
      "source": [
        "!sudo apt-get install -y fonts-nanum\n",
        "!sudo fc-cache -fv\n",
        "!rm ~/.cache/matplotlib -rf\n",
        "\n",
        "# konlpy 설치\n",
        "! pip install konlpy\n",
        "# pyLDAvis 설치\n",
        "!pip install pyLDAvis"
      ],
      "metadata": {
        "colab": {
          "base_uri": "https://localhost:8080/"
        },
        "id": "TrGhAbYXUODz",
        "outputId": "1d6d300b-2df8-4545-beb6-e375c1a77021"
      },
      "execution_count": null,
      "outputs": [
        {
          "output_type": "stream",
          "name": "stdout",
          "text": [
            "Reading package lists... Done\n",
            "Building dependency tree... Done\n",
            "Reading state information... Done\n",
            "fonts-nanum is already the newest version (20200506-1).\n",
            "0 upgraded, 0 newly installed, 0 to remove and 40 not upgraded.\n",
            "/usr/share/fonts: caching, new cache contents: 0 fonts, 1 dirs\n",
            "/usr/share/fonts/truetype: caching, new cache contents: 0 fonts, 3 dirs\n",
            "/usr/share/fonts/truetype/humor-sans: caching, new cache contents: 1 fonts, 0 dirs\n",
            "/usr/share/fonts/truetype/liberation: caching, new cache contents: 16 fonts, 0 dirs\n",
            "/usr/share/fonts/truetype/nanum: caching, new cache contents: 12 fonts, 0 dirs\n",
            "/usr/local/share/fonts: caching, new cache contents: 0 fonts, 0 dirs\n",
            "/root/.local/share/fonts: skipping, no such directory\n",
            "/root/.fonts: skipping, no such directory\n",
            "/usr/share/fonts/truetype: skipping, looped directory detected\n",
            "/usr/share/fonts/truetype/humor-sans: skipping, looped directory detected\n",
            "/usr/share/fonts/truetype/liberation: skipping, looped directory detected\n",
            "/usr/share/fonts/truetype/nanum: skipping, looped directory detected\n",
            "/var/cache/fontconfig: cleaning cache directory\n",
            "/root/.cache/fontconfig: not cleaning non-existent cache directory\n",
            "/root/.fontconfig: not cleaning non-existent cache directory\n",
            "fc-cache: succeeded\n",
            "Requirement already satisfied: konlpy in /usr/local/lib/python3.10/dist-packages (0.6.0)\n",
            "Requirement already satisfied: JPype1>=0.7.0 in /usr/local/lib/python3.10/dist-packages (from konlpy) (1.5.0)\n",
            "Requirement already satisfied: lxml>=4.1.0 in /usr/local/lib/python3.10/dist-packages (from konlpy) (4.9.4)\n",
            "Requirement already satisfied: numpy>=1.6 in /usr/local/lib/python3.10/dist-packages (from konlpy) (1.25.2)\n",
            "Requirement already satisfied: packaging in /usr/local/lib/python3.10/dist-packages (from JPype1>=0.7.0->konlpy) (23.2)\n",
            "Requirement already satisfied: pyLDAvis in /usr/local/lib/python3.10/dist-packages (3.4.1)\n",
            "Requirement already satisfied: numpy>=1.24.2 in /usr/local/lib/python3.10/dist-packages (from pyLDAvis) (1.25.2)\n",
            "Requirement already satisfied: scipy in /usr/local/lib/python3.10/dist-packages (from pyLDAvis) (1.11.4)\n",
            "Requirement already satisfied: pandas>=2.0.0 in /usr/local/lib/python3.10/dist-packages (from pyLDAvis) (2.2.1)\n",
            "Requirement already satisfied: joblib>=1.2.0 in /usr/local/lib/python3.10/dist-packages (from pyLDAvis) (1.3.2)\n",
            "Requirement already satisfied: jinja2 in /usr/local/lib/python3.10/dist-packages (from pyLDAvis) (3.1.3)\n",
            "Requirement already satisfied: numexpr in /usr/local/lib/python3.10/dist-packages (from pyLDAvis) (2.9.0)\n",
            "Requirement already satisfied: funcy in /usr/local/lib/python3.10/dist-packages (from pyLDAvis) (2.0)\n",
            "Requirement already satisfied: scikit-learn>=1.0.0 in /usr/local/lib/python3.10/dist-packages (from pyLDAvis) (1.2.2)\n",
            "Requirement already satisfied: gensim in /usr/local/lib/python3.10/dist-packages (from pyLDAvis) (4.3.2)\n",
            "Requirement already satisfied: setuptools in /usr/local/lib/python3.10/dist-packages (from pyLDAvis) (67.7.2)\n",
            "Requirement already satisfied: python-dateutil>=2.8.2 in /usr/local/lib/python3.10/dist-packages (from pandas>=2.0.0->pyLDAvis) (2.8.2)\n",
            "Requirement already satisfied: pytz>=2020.1 in /usr/local/lib/python3.10/dist-packages (from pandas>=2.0.0->pyLDAvis) (2023.4)\n",
            "Requirement already satisfied: tzdata>=2022.7 in /usr/local/lib/python3.10/dist-packages (from pandas>=2.0.0->pyLDAvis) (2024.1)\n",
            "Requirement already satisfied: threadpoolctl>=2.0.0 in /usr/local/lib/python3.10/dist-packages (from scikit-learn>=1.0.0->pyLDAvis) (3.3.0)\n",
            "Requirement already satisfied: smart-open>=1.8.1 in /usr/local/lib/python3.10/dist-packages (from gensim->pyLDAvis) (6.4.0)\n",
            "Requirement already satisfied: MarkupSafe>=2.0 in /usr/local/lib/python3.10/dist-packages (from jinja2->pyLDAvis) (2.1.5)\n",
            "Requirement already satisfied: six>=1.5 in /usr/local/lib/python3.10/dist-packages (from python-dateutil>=2.8.2->pandas>=2.0.0->pyLDAvis) (1.16.0)\n"
          ]
        }
      ]
    },
    {
      "cell_type": "code",
      "execution_count": null,
      "metadata": {
        "id": "C-zcXBpPe81u"
      },
      "outputs": [],
      "source": [
        "# 사용할 패키지 선언\n",
        "import requests\n",
        "from bs4 import BeautifulSoup\n",
        "import time\n",
        "import csv\n",
        "\n",
        "import pandas as pd\n",
        "import numpy as np\n",
        "\n",
        "import os, re\n",
        "from tqdm import tqdm\n",
        "\n",
        "from konlpy.utils import pprint\n",
        "from konlpy.tag import Okt\n",
        "\n",
        "# 경고문구 미표시\n",
        "import warnings\n",
        "warnings.filterwarnings('ignore')\n",
        "\n",
        "# 한글 폰트 지정\n",
        "import matplotlib.pyplot as plt\n",
        "plt.rc('font', family='NanumBarunGothic')\n",
        "\n",
        "# 사이킷런 패키지 활용\n",
        "from sklearn.decomposition import LatentDirichletAllocation\n",
        "\n",
        "import torchtext\n",
        "\n",
        "# 사이킷런 패키지 활용\n",
        "from sklearn.feature_extraction.text import TfidfVectorizer\n",
        "\n",
        "import pyLDAvis\n",
        "\n",
        "# 사이킷런 패키지 활용\n",
        "from sklearn.linear_model import LogisticRegression\n",
        "\n",
        "from wordcloud import WordCloud\n",
        "import PIL"
      ]
    },
    {
      "cell_type": "code",
      "execution_count": null,
      "metadata": {
        "id": "5QSJCAqAe8Kt"
      },
      "outputs": [],
      "source": [
        "# 변수들 선언\n",
        "pages = 1000\n",
        "need_reviews_cnt = 1000\n",
        "reviews = []\n",
        "review_data=[]\n",
        "\n",
        "for page in range(1,pages):\n",
        "    url = f'https://movie.naver.com/movie/point/af/list.naver?&page={page}'\n",
        "    #get : request로 url의  html문서의 내용 요청\n",
        "    html = requests.get(url)\n",
        "    #html을 받아온 문서를 .content로 지정 후 soup객체로 변환\n",
        "    soup = BeautifulSoup(html.content,'html.parser')\n",
        "    #find_all : 지정한 태그의 내용을 모두 찾아 리스트로 반환\n",
        "    reviews = soup.find_all(\"td\",{\"class\":\"title\"})\n",
        "\n",
        "    #한 페이지의 리뷰 리스트의 리뷰를 하나씩 보면서 데이터 추출\n",
        "    for review in reviews:\n",
        "        sentence = review.find(\"a\",{\"class\":\"report\"}).get(\"onclick\").split(\"', '\")[2]\n",
        "        #만약 리뷰 내용이 비어있다면 데이터를 사용하지 않음\n",
        "        if sentence != \"\":\n",
        "            movie = review.find(\"a\",{\"class\":\"movie color_b\"}).get_text()\n",
        "            score = review.find(\"em\").get_text()\n",
        "            review_data.append([movie,sentence,int(score)])\n",
        "            need_reviews_cnt-= 1\n",
        "    #현재까지 수집된 리뷰가 목표 수집 리뷰보다 많아진 경우 크롤링 중지\n",
        "    if need_reviews_cnt < 0:\n",
        "        break\n",
        "    #다음 페이지를 조회하기 전 0.5초 시간 차를 두기\n",
        "    time.sleep(0.5)\n",
        "\n",
        "# csv 파일로 저장\n",
        "columns_name = [\"movie\",\"sentence\",\"score\"]\n",
        "with open ( \"samples.csv\", \"w\", newline =\"\",encoding = 'utf8' ) as f:\n",
        "    write = csv.writer(f)\n",
        "    write.writerow(columns_name)\n",
        "    write.writerows(review_data)"
      ]
    },
    {
      "cell_type": "code",
      "execution_count": null,
      "metadata": {
        "id": "0O7xvOg-C2tE",
        "colab": {
          "base_uri": "https://localhost:8080/",
          "height": 35
        },
        "outputId": "b797613e-1471-4387-8381-95fe326b6e13"
      },
      "outputs": [
        {
          "output_type": "execute_result",
          "data": {
            "text/plain": [
              "'/content/data/review.txt'"
            ],
            "application/vnd.google.colaboratory.intrinsic+json": {
              "type": "string"
            }
          },
          "metadata": {},
          "execution_count": 54
        }
      ],
      "source": [
        "# 다운로드 받을 폴더를 준비\n",
        "DATA_DIR = \"./data\"\n",
        "os.makedirs(DATA_DIR, exist_ok=True)\n",
        "\n",
        "\n",
        "torchtext.utils.download_from_url(url='https://raw.githubusercontent.com/e9t/nsmc/master/ratings_train.txt',\n",
        "                                  path=os.path.join(DATA_DIR, 'review.txt'))"
      ]
    },
    {
      "cell_type": "code",
      "source": [
        "# txt 파일을 판다스 데이터프레임으로 읽어오기\n",
        "data = pd.read_csv(os.path.join(DATA_DIR, 'review.txt'), sep='\\t')\n",
        "\n",
        "# 데이터프레임의 크기\n",
        "print(data.shape)\n",
        "\n",
        "data"
      ],
      "metadata": {
        "colab": {
          "base_uri": "https://localhost:8080/",
          "height": 442
        },
        "id": "NENb-YG2EjH5",
        "outputId": "71e8df4e-07c2-44fa-fe45-cb945542288b"
      },
      "execution_count": null,
      "outputs": [
        {
          "output_type": "stream",
          "name": "stdout",
          "text": [
            "(150000, 3)\n"
          ]
        },
        {
          "output_type": "execute_result",
          "data": {
            "text/plain": [
              "              id                                           document  label\n",
              "0        9976970                                아 더빙.. 진짜 짜증나네요 목소리      0\n",
              "1        3819312                  흠...포스터보고 초딩영화줄....오버연기조차 가볍지 않구나      1\n",
              "2       10265843                                  너무재밓었다그래서보는것을추천한다      0\n",
              "3        9045019                      교도소 이야기구먼 ..솔직히 재미는 없다..평점 조정      0\n",
              "4        6483659  사이몬페그의 익살스런 연기가 돋보였던 영화!스파이더맨에서 늙어보이기만 했던 커스틴 ...      1\n",
              "...          ...                                                ...    ...\n",
              "149995   6222902                                인간이 문제지.. 소는 뭔죄인가..      0\n",
              "149996   8549745                                      평점이 너무 낮아서...      1\n",
              "149997   9311800                    이게 뭐요? 한국인은 거들먹거리고 필리핀 혼혈은 착하다?      0\n",
              "149998   2376369                        청춘 영화의 최고봉.방황과 우울했던 날들의 자화상      1\n",
              "149999   9619869                           한국 영화 최초로 수간하는 내용이 담긴 영화      0\n",
              "\n",
              "[150000 rows x 3 columns]"
            ],
            "text/html": [
              "\n",
              "  <div id=\"df-b8c92836-e078-4b6f-a75f-6f2995984911\">\n",
              "    <div class=\"colab-df-container\">\n",
              "      <div>\n",
              "<style scoped>\n",
              "    .dataframe tbody tr th:only-of-type {\n",
              "        vertical-align: middle;\n",
              "    }\n",
              "\n",
              "    .dataframe tbody tr th {\n",
              "        vertical-align: top;\n",
              "    }\n",
              "\n",
              "    .dataframe thead th {\n",
              "        text-align: right;\n",
              "    }\n",
              "</style>\n",
              "<table border=\"1\" class=\"dataframe\">\n",
              "  <thead>\n",
              "    <tr style=\"text-align: right;\">\n",
              "      <th></th>\n",
              "      <th>id</th>\n",
              "      <th>document</th>\n",
              "      <th>label</th>\n",
              "    </tr>\n",
              "  </thead>\n",
              "  <tbody>\n",
              "    <tr>\n",
              "      <th>0</th>\n",
              "      <td>9976970</td>\n",
              "      <td>아 더빙.. 진짜 짜증나네요 목소리</td>\n",
              "      <td>0</td>\n",
              "    </tr>\n",
              "    <tr>\n",
              "      <th>1</th>\n",
              "      <td>3819312</td>\n",
              "      <td>흠...포스터보고 초딩영화줄....오버연기조차 가볍지 않구나</td>\n",
              "      <td>1</td>\n",
              "    </tr>\n",
              "    <tr>\n",
              "      <th>2</th>\n",
              "      <td>10265843</td>\n",
              "      <td>너무재밓었다그래서보는것을추천한다</td>\n",
              "      <td>0</td>\n",
              "    </tr>\n",
              "    <tr>\n",
              "      <th>3</th>\n",
              "      <td>9045019</td>\n",
              "      <td>교도소 이야기구먼 ..솔직히 재미는 없다..평점 조정</td>\n",
              "      <td>0</td>\n",
              "    </tr>\n",
              "    <tr>\n",
              "      <th>4</th>\n",
              "      <td>6483659</td>\n",
              "      <td>사이몬페그의 익살스런 연기가 돋보였던 영화!스파이더맨에서 늙어보이기만 했던 커스틴 ...</td>\n",
              "      <td>1</td>\n",
              "    </tr>\n",
              "    <tr>\n",
              "      <th>...</th>\n",
              "      <td>...</td>\n",
              "      <td>...</td>\n",
              "      <td>...</td>\n",
              "    </tr>\n",
              "    <tr>\n",
              "      <th>149995</th>\n",
              "      <td>6222902</td>\n",
              "      <td>인간이 문제지.. 소는 뭔죄인가..</td>\n",
              "      <td>0</td>\n",
              "    </tr>\n",
              "    <tr>\n",
              "      <th>149996</th>\n",
              "      <td>8549745</td>\n",
              "      <td>평점이 너무 낮아서...</td>\n",
              "      <td>1</td>\n",
              "    </tr>\n",
              "    <tr>\n",
              "      <th>149997</th>\n",
              "      <td>9311800</td>\n",
              "      <td>이게 뭐요? 한국인은 거들먹거리고 필리핀 혼혈은 착하다?</td>\n",
              "      <td>0</td>\n",
              "    </tr>\n",
              "    <tr>\n",
              "      <th>149998</th>\n",
              "      <td>2376369</td>\n",
              "      <td>청춘 영화의 최고봉.방황과 우울했던 날들의 자화상</td>\n",
              "      <td>1</td>\n",
              "    </tr>\n",
              "    <tr>\n",
              "      <th>149999</th>\n",
              "      <td>9619869</td>\n",
              "      <td>한국 영화 최초로 수간하는 내용이 담긴 영화</td>\n",
              "      <td>0</td>\n",
              "    </tr>\n",
              "  </tbody>\n",
              "</table>\n",
              "<p>150000 rows × 3 columns</p>\n",
              "</div>\n",
              "      <button class=\"colab-df-convert\" onclick=\"convertToInteractive('df-b8c92836-e078-4b6f-a75f-6f2995984911')\"\n",
              "              title=\"Convert this dataframe to an interactive table.\"\n",
              "              style=\"display:none;\">\n",
              "        \n",
              "  <svg xmlns=\"http://www.w3.org/2000/svg\" height=\"24px\"viewBox=\"0 0 24 24\"\n",
              "       width=\"24px\">\n",
              "    <path d=\"M0 0h24v24H0V0z\" fill=\"none\"/>\n",
              "    <path d=\"M18.56 5.44l.94 2.06.94-2.06 2.06-.94-2.06-.94-.94-2.06-.94 2.06-2.06.94zm-11 1L8.5 8.5l.94-2.06 2.06-.94-2.06-.94L8.5 2.5l-.94 2.06-2.06.94zm10 10l.94 2.06.94-2.06 2.06-.94-2.06-.94-.94-2.06-.94 2.06-2.06.94z\"/><path d=\"M17.41 7.96l-1.37-1.37c-.4-.4-.92-.59-1.43-.59-.52 0-1.04.2-1.43.59L10.3 9.45l-7.72 7.72c-.78.78-.78 2.05 0 2.83L4 21.41c.39.39.9.59 1.41.59.51 0 1.02-.2 1.41-.59l7.78-7.78 2.81-2.81c.8-.78.8-2.07 0-2.86zM5.41 20L4 18.59l7.72-7.72 1.47 1.35L5.41 20z\"/>\n",
              "  </svg>\n",
              "      </button>\n",
              "      \n",
              "  <style>\n",
              "    .colab-df-container {\n",
              "      display:flex;\n",
              "      flex-wrap:wrap;\n",
              "      gap: 12px;\n",
              "    }\n",
              "\n",
              "    .colab-df-convert {\n",
              "      background-color: #E8F0FE;\n",
              "      border: none;\n",
              "      border-radius: 50%;\n",
              "      cursor: pointer;\n",
              "      display: none;\n",
              "      fill: #1967D2;\n",
              "      height: 32px;\n",
              "      padding: 0 0 0 0;\n",
              "      width: 32px;\n",
              "    }\n",
              "\n",
              "    .colab-df-convert:hover {\n",
              "      background-color: #E2EBFA;\n",
              "      box-shadow: 0px 1px 2px rgba(60, 64, 67, 0.3), 0px 1px 3px 1px rgba(60, 64, 67, 0.15);\n",
              "      fill: #174EA6;\n",
              "    }\n",
              "\n",
              "    [theme=dark] .colab-df-convert {\n",
              "      background-color: #3B4455;\n",
              "      fill: #D2E3FC;\n",
              "    }\n",
              "\n",
              "    [theme=dark] .colab-df-convert:hover {\n",
              "      background-color: #434B5C;\n",
              "      box-shadow: 0px 1px 3px 1px rgba(0, 0, 0, 0.15);\n",
              "      filter: drop-shadow(0px 1px 2px rgba(0, 0, 0, 0.3));\n",
              "      fill: #FFFFFF;\n",
              "    }\n",
              "  </style>\n",
              "\n",
              "      <script>\n",
              "        const buttonEl =\n",
              "          document.querySelector('#df-b8c92836-e078-4b6f-a75f-6f2995984911 button.colab-df-convert');\n",
              "        buttonEl.style.display =\n",
              "          google.colab.kernel.accessAllowed ? 'block' : 'none';\n",
              "\n",
              "        async function convertToInteractive(key) {\n",
              "          const element = document.querySelector('#df-b8c92836-e078-4b6f-a75f-6f2995984911');\n",
              "          const dataTable =\n",
              "            await google.colab.kernel.invokeFunction('convertToInteractive',\n",
              "                                                     [key], {});\n",
              "          if (!dataTable) return;\n",
              "\n",
              "          const docLinkHtml = 'Like what you see? Visit the ' +\n",
              "            '<a target=\"_blank\" href=https://colab.research.google.com/notebooks/data_table.ipynb>data table notebook</a>'\n",
              "            + ' to learn more about interactive tables.';\n",
              "          element.innerHTML = '';\n",
              "          dataTable['output_type'] = 'display_data';\n",
              "          await google.colab.output.renderOutput(dataTable, element);\n",
              "          const docLink = document.createElement('div');\n",
              "          docLink.innerHTML = docLinkHtml;\n",
              "          element.appendChild(docLink);\n",
              "        }\n",
              "      </script>\n",
              "    </div>\n",
              "  </div>\n",
              "  "
            ]
          },
          "metadata": {},
          "execution_count": 176
        }
      ]
    },
    {
      "cell_type": "code",
      "source": [
        "# 긍정 리뷰를 하나 선택\n",
        "sample_text = data['document'].iloc[381]\n",
        "print(type(sample_text))\n",
        "print(sample_text)"
      ],
      "metadata": {
        "colab": {
          "base_uri": "https://localhost:8080/"
        },
        "id": "EajMBwyCHkEc",
        "outputId": "84e3c7fa-b09f-42bf-b4b5-a566dbf9a715"
      },
      "execution_count": null,
      "outputs": [
        {
          "output_type": "stream",
          "name": "stdout",
          "text": [
            "<class 'str'>\n",
            "진짜 어마어마한 여운을 주는 멜로 영화에요.ㅎ\n"
          ]
        }
      ]
    },
    {
      "cell_type": "code",
      "source": [
        "# 트위터 형태소 분석기(Okt)를 활용\n",
        "okt = Okt()\n",
        "print(okt)"
      ],
      "metadata": {
        "colab": {
          "base_uri": "https://localhost:8080/"
        },
        "id": "sI08yv8RHmkf",
        "outputId": "6874c5d6-e05f-4aa1-e665-d9d8c3860887"
      },
      "execution_count": null,
      "outputs": [
        {
          "output_type": "stream",
          "name": "stdout",
          "text": [
            "<konlpy.tag._okt.Okt object at 0x7f93dc03d8e0>\n"
          ]
        }
      ]
    },
    {
      "cell_type": "code",
      "source": [
        "# (단어, 품사) 추출\n",
        "tokens = okt.pos(sample_text)\n",
        "pprint(tokens)"
      ],
      "metadata": {
        "colab": {
          "base_uri": "https://localhost:8080/"
        },
        "id": "qSzD-Ja_H1cO",
        "outputId": "a741c22f-01f3-4eaf-b676-635f2d931878"
      },
      "execution_count": null,
      "outputs": [
        {
          "output_type": "stream",
          "name": "stdout",
          "text": [
            "[('진짜', 'Noun'),\n",
            " ('어마어마한', 'Adjective'),\n",
            " ('여운', 'Noun'),\n",
            " ('을', 'Josa'),\n",
            " ('주는', 'Verb'),\n",
            " ('멜로', 'Noun'),\n",
            " ('영화', 'Noun'),\n",
            " ('에요', 'Josa'),\n",
            " ('.', 'Punctuation'),\n",
            " ('ㅎ', 'KoreanParticle')]\n"
          ]
        }
      ]
    },
    {
      "cell_type": "code",
      "source": [
        "# (단어, 품사) 추출\n",
        "tokens = okt.pos(sample_text)\n",
        "pprint(tokens)"
      ],
      "metadata": {
        "colab": {
          "base_uri": "https://localhost:8080/"
        },
        "id": "lozyFqyyH4hu",
        "outputId": "883148ae-ecfe-4e70-c848-71601cf07092"
      },
      "execution_count": null,
      "outputs": [
        {
          "output_type": "stream",
          "name": "stdout",
          "text": [
            "[('진짜', 'Noun'),\n",
            " ('어마어마한', 'Adjective'),\n",
            " ('여운', 'Noun'),\n",
            " ('을', 'Josa'),\n",
            " ('주는', 'Verb'),\n",
            " ('멜로', 'Noun'),\n",
            " ('영화', 'Noun'),\n",
            " ('에요', 'Josa'),\n",
            " ('.', 'Punctuation'),\n",
            " ('ㅎ', 'KoreanParticle')]\n"
          ]
        }
      ]
    },
    {
      "cell_type": "code",
      "source": [
        "# (단어, 품사) 추출\n",
        "tokens = okt.pos(sample_text)\n",
        "pprint(tokens)"
      ],
      "metadata": {
        "colab": {
          "base_uri": "https://localhost:8080/"
        },
        "id": "NGXkYvl9QF6v",
        "outputId": "58e5a1e1-c64e-4ec2-85ff-64978ebbfd39"
      },
      "execution_count": null,
      "outputs": [
        {
          "output_type": "stream",
          "name": "stdout",
          "text": [
            "[('진짜', 'Noun'),\n",
            " ('어마어마한', 'Adjective'),\n",
            " ('여운', 'Noun'),\n",
            " ('을', 'Josa'),\n",
            " ('주는', 'Verb'),\n",
            " ('멜로', 'Noun'),\n",
            " ('영화', 'Noun'),\n",
            " ('에요', 'Josa'),\n",
            " ('.', 'Punctuation'),\n",
            " ('ㅎ', 'KoreanParticle')]\n"
          ]
        }
      ]
    },
    {
      "cell_type": "code",
      "source": [
        "# 단어 ONLY 추출\n",
        "tokens = okt.morphs(sample_text)\n",
        "pprint(tokens)"
      ],
      "metadata": {
        "colab": {
          "base_uri": "https://localhost:8080/"
        },
        "id": "dboE0WK8QXqq",
        "outputId": "ee31cc0c-a2d9-495f-b923-107b7ee99394"
      },
      "execution_count": null,
      "outputs": [
        {
          "output_type": "stream",
          "name": "stdout",
          "text": [
            "['진짜', '어마어마한', '여운', '을', '주는', '멜로', '영화', '에요', '.', 'ㅎ']\n"
          ]
        }
      ]
    },
    {
      "cell_type": "code",
      "source": [
        "# 명사 ONLY 추출\n",
        "tokens = okt.nouns(sample_text)\n",
        "pprint(tokens)"
      ],
      "metadata": {
        "colab": {
          "base_uri": "https://localhost:8080/"
        },
        "id": "6nOYI844QbdL",
        "outputId": "114a00d3-e7a4-408d-a222-a8849503a08c"
      },
      "execution_count": null,
      "outputs": [
        {
          "output_type": "stream",
          "name": "stdout",
          "text": [
            "['진짜', '여운', '멜로', '영화']\n"
          ]
        }
      ]
    },
    {
      "cell_type": "code",
      "source": [
        "# 누락 데이터를 제거\n",
        "review_data = data['document'].dropna().values\n",
        "\n",
        "#10000개의 샘플을 선택하여 추출\n",
        "review_data = review_data[:10000]\n",
        "\n",
        "# 배열의 크기\n",
        "print(review_data.shape)\n",
        "\n",
        "# 첫 번째 데이터\n",
        "print(review_data[0])"
      ],
      "metadata": {
        "colab": {
          "base_uri": "https://localhost:8080/"
        },
        "id": "Whe5HANWQeZF",
        "outputId": "f211a1b9-600a-4b10-eb89-791c7a74e199"
      },
      "execution_count": null,
      "outputs": [
        {
          "output_type": "stream",
          "name": "stdout",
          "text": [
            "(10000,)\n",
            "아 더빙.. 진짜 짜증나네요 목소리\n"
          ]
        }
      ]
    },
    {
      "cell_type": "code",
      "source": [
        "# 세 글자 이상의 명사를 사용 (두 글자 이하의 단어는 제거)\n",
        "cleaned_review_data = []\n",
        "\n",
        "for review in tqdm(review_data):\n",
        "    tokens = okt.nouns(review)\n",
        "    cleaned_tokens = []\n",
        "    for word in tokens:\n",
        "        if len(word) > 2:\n",
        "            cleaned_tokens.append(word)\n",
        "        else:\n",
        "            pass\n",
        "    cleaned_review = \" \".join(cleaned_tokens)\n",
        "    cleaned_review_data.append(cleaned_review)\n",
        "\n",
        "print(len(cleaned_review_data))\n",
        "print(cleaned_review_data[0])"
      ],
      "metadata": {
        "colab": {
          "base_uri": "https://localhost:8080/"
        },
        "id": "WR9GmUrGQmkm",
        "outputId": "78e5232a-400a-4d42-f03f-dae92ac9cc34"
      },
      "execution_count": null,
      "outputs": [
        {
          "output_type": "stream",
          "name": "stderr",
          "text": [
            "100%|██████████| 10000/10000 [00:40<00:00, 243.97it/s]"
          ]
        },
        {
          "output_type": "stream",
          "name": "stdout",
          "text": [
            "10000\n",
            "목소리\n"
          ]
        },
        {
          "output_type": "stream",
          "name": "stderr",
          "text": [
            "\n"
          ]
        }
      ]
    },
    {
      "cell_type": "code",
      "source": [
        "# TF-IDF 변환기 객체를 생성\n",
        "tfid = TfidfVectorizer()\n",
        "\n",
        "# TF-IDF 변환기에 데이터를 입력하여 변환\n",
        "review_tfid = tfid.fit_transform(cleaned_review_data)\n",
        "\n",
        "# 배열의 크기\n",
        "print(review_tfid.shape)\n",
        "\n",
        "# 첫 번째 데이터\n",
        "print(review_tfid[0])"
      ],
      "metadata": {
        "colab": {
          "base_uri": "https://localhost:8080/"
        },
        "id": "3sSdNd9ZQogh",
        "outputId": "ecc65170-3fd4-4065-e936-ce76c93d47f6"
      },
      "execution_count": null,
      "outputs": [
        {
          "output_type": "stream",
          "name": "stdout",
          "text": [
            "(10000, 3477)\n",
            "  (0, 955)\t1.0\n"
          ]
        }
      ]
    },
    {
      "cell_type": "code",
      "source": [
        "# 단어 사전 확인 (딕셔너리 형태)\n",
        "vocab = tfid.vocabulary_\n",
        "\n",
        "# 단어 사전의 크기\n",
        "print(len(vocab))\n",
        "\n",
        "# 단어 사전 출력 (앞에서 5개의 단어만 출력)\n",
        "print({ k:v for i, (k, v) in enumerate(vocab.items()) if i < 5 })"
      ],
      "metadata": {
        "colab": {
          "base_uri": "https://localhost:8080/"
        },
        "id": "VnctbP3FQsWj",
        "outputId": "551eb666-1b25-4a08-fc86-6a99e90972a5"
      },
      "execution_count": null,
      "outputs": [
        {
          "output_type": "stream",
          "name": "stdout",
          "text": [
            "3477\n",
            "{'목소리': 955, '포스터': 3194, '교도소': 194, '이야기': 2329, '스파이더맨': 1623}\n"
          ]
        }
      ]
    },
    {
      "cell_type": "code",
      "source": [
        "# 단어들의 사전 인덱스를 이용하여 원래 단어를 검색하는 매핑 딕셔너리\n",
        "index_to_word = { v:k for k, v in vocab.items() }\n",
        "\n",
        "# 앞에서 5개의 단어를 출력\n",
        "print({  k:v for i, (k, v) in enumerate(index_to_word.items()) if i < 5 })"
      ],
      "metadata": {
        "colab": {
          "base_uri": "https://localhost:8080/"
        },
        "id": "Ad79amUOQtn8",
        "outputId": "8b7c1d78-5075-465f-9965-07f1de503820"
      },
      "execution_count": null,
      "outputs": [
        {
          "output_type": "stream",
          "name": "stdout",
          "text": [
            "{955: '목소리', 3194: '포스터', 194: '교도소', 2329: '이야기', 1623: '스파이더맨'}\n"
          ]
        }
      ]
    },
    {
      "cell_type": "code",
      "source": [
        "# 단어들의 사전 인덱스를 이용하여 원래 단어를 검색하는 매핑 딕셔너리\n",
        "index_to_word = { v:k for k, v in vocab.items() }\n",
        "\n",
        "# 앞에서 5개의 단어를 출력\n",
        "print({  k:v for i, (k, v) in enumerate(index_to_word.items()) if i < 5 })"
      ],
      "metadata": {
        "colab": {
          "base_uri": "https://localhost:8080/"
        },
        "id": "q-LvFSs1Qu_J",
        "outputId": "93d162f0-5d52-4916-dfb1-5a82d1a73519"
      },
      "execution_count": null,
      "outputs": [
        {
          "output_type": "stream",
          "name": "stdout",
          "text": [
            "{955: '목소리', 3194: '포스터', 194: '교도소', 2329: '이야기', 1623: '스파이더맨'}\n"
          ]
        }
      ]
    },
    {
      "cell_type": "code",
      "source": [
        "# 첫 번째 리뷰를 구성하는 단어들의 사전 인덱스를 이용하여 원래 단어를 복원 (순서 복원 X)\n",
        "original_text = \" \".join([index_to_word[word_idx] for word_idx in review_tfid[0].indices])\n",
        "original_text"
      ],
      "metadata": {
        "colab": {
          "base_uri": "https://localhost:8080/",
          "height": 35
        },
        "id": "QbN2YDl4QxEE",
        "outputId": "2a2819e3-077f-4bdf-c242-f000ac82768a"
      },
      "execution_count": null,
      "outputs": [
        {
          "output_type": "execute_result",
          "data": {
            "text/plain": [
              "'목소리'"
            ],
            "application/vnd.google.colaboratory.intrinsic+json": {
              "type": "string"
            }
          },
          "metadata": {},
          "execution_count": 129
        }
      ]
    },
    {
      "cell_type": "code",
      "source": [
        "# 첫 번째 리뷰를 구성하는 단어들의 사전 인덱스를 이용하여 원래 단어를 복원 (순서 복원 X)\n",
        "original_text = \" \".join([index_to_word[word_idx] for word_idx in review_tfid[0].indices])\n",
        "original_text"
      ],
      "metadata": {
        "colab": {
          "base_uri": "https://localhost:8080/",
          "height": 35
        },
        "id": "N2h31H9uQyIn",
        "outputId": "e790d52b-b0f7-4a49-c602-297aa36ee6b0"
      },
      "execution_count": null,
      "outputs": [
        {
          "output_type": "execute_result",
          "data": {
            "text/plain": [
              "'목소리'"
            ],
            "application/vnd.google.colaboratory.intrinsic+json": {
              "type": "string"
            }
          },
          "metadata": {},
          "execution_count": 130
        }
      ]
    },
    {
      "cell_type": "code",
      "source": [
        "# LDA 모델링 객체를 생성 (토픽 갯수를 2로 설정: 긍정/부정)\n",
        "lda = LatentDirichletAllocation(n_components=2)\n",
        "\n",
        "# TF-IDF 벡터를 입력하여 모델 학습\n",
        "lda.fit(review_tfid)"
      ],
      "metadata": {
        "colab": {
          "base_uri": "https://localhost:8080/"
        },
        "id": "ZNRmSZFPSm3a",
        "outputId": "d77ad488-302a-44f4-d40d-e0ae576711c4"
      },
      "execution_count": null,
      "outputs": [
        {
          "output_type": "execute_result",
          "data": {
            "text/plain": [
              "LatentDirichletAllocation(n_components=2)"
            ]
          },
          "metadata": {},
          "execution_count": 131
        }
      ]
    },
    {
      "cell_type": "code",
      "source": [
        "# 토픽 모델링 결과를 담고 있는 배열의 형태 : (2개의 토픽, 2157개의 단어)\n",
        "print(lda.components_.shape)"
      ],
      "metadata": {
        "colab": {
          "base_uri": "https://localhost:8080/"
        },
        "id": "-ehdV0TKSoRy",
        "outputId": "81cc7852-ab48-42f8-95c0-c7250d64fdac"
      },
      "execution_count": null,
      "outputs": [
        {
          "output_type": "stream",
          "name": "stdout",
          "text": [
            "(2, 3477)\n"
          ]
        }
      ]
    },
    {
      "cell_type": "code",
      "source": [
        "#토픽 별로 가장 중요도가 높은 단어를 10개씩 출력\n",
        "\n",
        "for idx, topic in enumerate(lda.components_):\n",
        "    print(f\"토픽 유형 {idx+1}:\", [(index_to_word[i], topic[i].round(3)) for i in topic.argsort()[:-11:-1]])"
      ],
      "metadata": {
        "colab": {
          "base_uri": "https://localhost:8080/"
        },
        "id": "3_4fTqtiSpZt",
        "outputId": "789b2023-c402-4c2b-cfe4-32e256a84cd9"
      },
      "execution_count": null,
      "outputs": [
        {
          "output_type": "stream",
          "name": "stdout",
          "text": [
            "토픽 유형 1: [('드라마', 189.339), ('마지막', 107.698), ('이영화', 79.67), ('시리즈', 41.736), ('스릴러', 37.108), ('긴장감', 36.04), ('연기력', 34.767), ('캐스팅', 28.796), ('도대체', 27.786), ('시나리오', 27.444)]\n",
            "토픽 유형 2: [('스토리', 217.043), ('쓰레기', 143.082), ('주인공', 100.456), ('이야기', 97.919), ('코미디', 55.174), ('캐릭터', 41.393), ('포스터', 38.976), ('한국영', 37.5), ('공포영화', 34.386), ('최고다', 32.436)]\n"
          ]
        }
      ]
    },
    {
      "cell_type": "code",
      "source": [
        "# LDA 토픽 모델링 결과를 시각화\n",
        "pyLDAvis.enable_notebook()\n",
        "visualization = pyLDAvis.sklearn.prepare(lda, review_tfid, tfid)\n",
        "pyLDAvis.display(visualization)"
      ],
      "metadata": {
        "colab": {
          "base_uri": "https://localhost:8080/",
          "height": 880
        },
        "id": "1Qy9Pzp-ZMS1",
        "outputId": "a8b38978-54e1-403f-b28f-1e3c3a18eb84"
      },
      "execution_count": null,
      "outputs": [
        {
          "output_type": "execute_result",
          "data": {
            "text/plain": [
              "<IPython.core.display.HTML object>"
            ],
            "text/html": [
              "\n",
              "<link rel=\"stylesheet\" type=\"text/css\" href=\"https://cdn.jsdelivr.net/gh/bmabey/pyLDAvis@3.3.1/pyLDAvis/js/ldavis.v1.0.0.css\">\n",
              "\n",
              "\n",
              "<div id=\"ldavis_el1111402726683621124121589129\"></div>\n",
              "<script type=\"text/javascript\">\n",
              "\n",
              "var ldavis_el1111402726683621124121589129_data = {\"mdsDat\": {\"x\": [0.1359440820357217, -0.1359440820357217], \"y\": [0.0, 0.0], \"topics\": [1, 2], \"cluster\": [1, 1], \"Freq\": [50.432986082652675, 49.56701391734733]}, \"tinfo\": {\"Term\": [\"\\uc2a4\\ud1a0\\ub9ac\", \"\\ub4dc\\ub77c\\ub9c8\", \"\\uc4f0\\ub808\\uae30\", \"\\ub9c8\\uc9c0\\ub9c9\", \"\\uc8fc\\uc778\\uacf5\", \"\\uc774\\uc57c\\uae30\", \"\\uc774\\uc601\\ud654\", \"\\ucf54\\ubbf8\\ub514\", \"\\uc2dc\\ub9ac\\uc988\", \"\\uce90\\ub9ad\\ud130\", \"\\ud3ec\\uc2a4\\ud130\", \"\\uc2a4\\ub9b4\\ub7ec\", \"\\ud55c\\uad6d\\uc601\", \"\\uae34\\uc7a5\\uac10\", \"\\uacf5\\ud3ec\\uc601\\ud654\", \"\\ucd5c\\uace0\\ub2e4\", \"\\uc81c\\ub300\\ub85c\", \"\\uc601\\ud654\\uad00\", \"\\uc6b0\\ub9ac\\ub098\\ub77c\", \"\\uce90\\uc2a4\\ud305\", \"\\ub3c4\\ub300\\uccb4\", \"\\uc2dc\\ub098\\ub9ac\\uc624\", \"\\ub85c\\ub9e8\\uc2a4\", \"\\ud0ac\\ub9c1\\ud0c0\\uc784\", \"\\uc9c0\\ub8e8\\ud568\", \"\\ud55c\\ub9c8\\ub514\", \"\\uc601\\ud654\\uc778\", \"\\uac08\\uc218\\ub85d\", \"\\uc601\\ud654\\ub85c\", \"\\ube44\\ub514\\uc624\", \"\\uc2a4\\ud1a0\\ub9ac\", \"\\uc4f0\\ub808\\uae30\", \"\\uc774\\uc57c\\uae30\", \"\\uc8fc\\uc778\\uacf5\", \"\\ucf54\\ubbf8\\ub514\", \"\\ud3ec\\uc2a4\\ud130\", \"\\ud55c\\uad6d\\uc601\", \"\\uacf5\\ud3ec\\uc601\\ud654\", \"\\uce90\\ub9ad\\ud130\", \"\\ucd5c\\uace0\\ub2e4\", \"\\uc81c\\ub300\\ub85c\", \"\\uc601\\ud654\\uad00\", \"\\uc6b0\\ub9ac\\ub098\\ub77c\", \"\\uc9c0\\ub8e8\\ud568\", \"\\ud55c\\ub9c8\\ub514\", \"\\uc5bc\\ub9c8\\ub098\", \"\\uadf8\\ub300\\ub85c\", \"\\uc601\\ud654\\ub85c\", \"\\ubab0\\uc785\\ub3c4\", \"\\ud765\\ubbf8\\uc9c4\\uc9c4\", \"\\ucc28\\ub77c\\ub9ac\", \"\\ub124\\uc774\\ubc84\", \"\\ud3c9\\ub860\\uac00\", \"\\ud504\\ub791\\uc2a4\", \"\\uc904\\uac70\\ub9ac\", \"\\uc2dc\\uccad\\ub960\", \"\\uc2a4\\ud0c0\\uc77c\", \"\\uacac\\uc790\\ub2e8\", \"\\ubaa9\\uc18c\\ub9ac\", \"\\ub290\\uc640\\ub974\", \"\\ub3c4\\uc800\\ud788\", \"\\ub4dc\\ub77c\\ub9c8\", \"\\ub9c8\\uc9c0\\ub9c9\", \"\\uc774\\uc601\\ud654\", \"\\uc2a4\\ub9b4\\ub7ec\", \"\\uae34\\uc7a5\\uac10\", \"\\uce90\\uc2a4\\ud305\", \"\\ub85c\\ub9e8\\uc2a4\", \"\\uc2dc\\ub098\\ub9ac\\uc624\", \"\\ub3c4\\ub300\\uccb4\", \"\\ud0ac\\ub9c1\\ud0c0\\uc784\", \"\\uc601\\ud654\\uc778\", \"\\ube44\\ub514\\uc624\", \"\\uc560\\ub2c8\\uba54\\uc774\\uc158\", \"\\uac08\\uc218\\ub85d\", \"\\uc5ec\\ubc30\\uc6b0\", \"\\uc2dc\\ub9ac\\uc988\", \"\\ubd84\\uc704\\uae30\", \"\\ud654\\uc774\\ud305\", \"\\ubb34\\uc870\\uac74\", \"\\ubc1c\\uc5f0\\uae30\", \"\\uc544\\ubc84\\uc9c0\", \"\\uadf9\\uc7a5\\ud310\", \"\\uc544\\uc800\\uc528\", \"\\ud310\\ud0c0\\uc9c0\", \"\\ucf00\\uc774\\ube14\", \"\\uc561\\uc158\\uc601\\ud654\", \"\\uc81c\\uc791\\ube44\", \"\\uadf8\\ub798\\ud53d\", \"\\uba54\\uc138\\uc9c0\", \"\\uc544\\uc26c\\uc6c0\", \"\\uc5f0\\uae30\\ub825\", \"\\uac11\\uc790\\uae30\"], \"Freq\": [143.0, 125.0, 94.0, 71.0, 66.0, 64.0, 53.0, 36.0, 28.0, 27.0, 25.0, 24.0, 25.0, 24.0, 22.0, 21.0, 21.0, 20.0, 20.0, 19.0, 18.0, 18.0, 18.0, 18.0, 17.0, 17.0, 17.0, 16.0, 17.0, 15.0, 142.76675939327438, 94.11681114690943, 64.40908027531235, 66.0777039646885, 36.29234530565807, 25.637404974091595, 24.666578696167207, 22.61832951076923, 27.227432948566918, 21.33585260550046, 21.277540473026036, 20.44316167880349, 19.808926207991874, 17.44488868997948, 17.45828853122449, 15.068503057001418, 15.811528853545814, 16.808201896777728, 15.655061175582745, 12.696051464622506, 14.994635022061777, 12.665810682867287, 10.410424731785735, 9.480710749943176, 9.50448043827639, 10.145068333390821, 9.210516527872086, 8.975564148833568, 8.474017655543106, 8.869896822480932, 9.497069552348318, 125.28466981560219, 71.26316914890337, 52.71694951147147, 24.554422531977192, 23.847554177951665, 19.054099328356774, 18.08859643606364, 18.1595460110782, 18.385742089080654, 17.64227676864515, 16.883209576977315, 15.580182311299701, 15.508289562691845, 16.562687092331714, 15.151178252240834, 27.61671374761138, 14.709820588268686, 11.78380241379085, 12.856900790385813, 11.689435153332347, 11.273075542847458, 11.069697067433022, 10.220525234394252, 9.963197826402782, 10.269028230520702, 9.157776222184657, 9.07419761848081, 8.900291101667422, 8.780534008002789, 8.289770326670226, 23.004831439766903, 9.455287288002538], \"Total\": [143.0, 125.0, 94.0, 71.0, 66.0, 64.0, 53.0, 36.0, 28.0, 27.0, 25.0, 24.0, 25.0, 24.0, 22.0, 21.0, 21.0, 20.0, 20.0, 19.0, 18.0, 18.0, 18.0, 18.0, 17.0, 17.0, 17.0, 16.0, 17.0, 15.0, 143.26663918578848, 94.49375923019413, 64.78168898933438, 66.49876330981316, 36.64972871510317, 25.989970003509963, 25.01939621933545, 22.994445857058388, 27.68847976388332, 21.703897154239897, 21.646442783759433, 20.809275912228195, 20.189416934338137, 17.80422287618394, 17.839812746048985, 15.445709898468834, 16.211565619505425, 17.243051797510933, 16.065397541250885, 13.06380381433416, 15.433232063149358, 13.049558836944193, 10.77402436225785, 9.829683915400237, 9.870735374967193, 10.541928735888007, 9.58424610170499, 9.341561496118796, 8.82845361609973, 9.277979623054039, 9.943614212120243, 125.66065305768224, 71.64150096214935, 53.12635898378824, 24.97251140884319, 24.28822018224019, 19.42638468971938, 18.447095269360585, 18.524434934708356, 18.755467608395076, 18.012778565876893, 17.261037618361566, 15.934288945043008, 15.878189281398614, 16.962123779238976, 15.518095129125788, 28.289383708609517, 15.104988018780196, 12.132876497184533, 13.23969322785598, 12.072307818595055, 11.6442770388152, 11.439414296299335, 10.567891711616458, 10.32213178110612, 10.640967572430105, 9.51113476052256, 9.443853947310318, 9.268379068936367, 9.153771421644592, 8.6450902835088, 28.415169515617396, 10.325604215513959], \"Category\": [\"Default\", \"Default\", \"Default\", \"Default\", \"Default\", \"Default\", \"Default\", \"Default\", \"Default\", \"Default\", \"Default\", \"Default\", \"Default\", \"Default\", \"Default\", \"Default\", \"Default\", \"Default\", \"Default\", \"Default\", \"Default\", \"Default\", \"Default\", \"Default\", \"Default\", \"Default\", \"Default\", \"Default\", \"Default\", \"Default\", \"Topic1\", \"Topic1\", \"Topic1\", \"Topic1\", \"Topic1\", \"Topic1\", \"Topic1\", \"Topic1\", \"Topic1\", \"Topic1\", \"Topic1\", \"Topic1\", \"Topic1\", \"Topic1\", \"Topic1\", \"Topic1\", \"Topic1\", \"Topic1\", \"Topic1\", \"Topic1\", \"Topic1\", \"Topic1\", \"Topic1\", \"Topic1\", \"Topic1\", \"Topic1\", \"Topic1\", \"Topic1\", \"Topic1\", \"Topic1\", \"Topic1\", \"Topic2\", \"Topic2\", \"Topic2\", \"Topic2\", \"Topic2\", \"Topic2\", \"Topic2\", \"Topic2\", \"Topic2\", \"Topic2\", \"Topic2\", \"Topic2\", \"Topic2\", \"Topic2\", \"Topic2\", \"Topic2\", \"Topic2\", \"Topic2\", \"Topic2\", \"Topic2\", \"Topic2\", \"Topic2\", \"Topic2\", \"Topic2\", \"Topic2\", \"Topic2\", \"Topic2\", \"Topic2\", \"Topic2\", \"Topic2\", \"Topic2\", \"Topic2\"], \"logprob\": [30.0, 29.0, 28.0, 27.0, 26.0, 25.0, 24.0, 23.0, 22.0, 21.0, 20.0, 19.0, 18.0, 17.0, 16.0, 15.0, 14.0, 13.0, 12.0, 11.0, 10.0, 9.0, 8.0, 7.0, 6.0, 5.0, 4.0, 3.0, 2.0, 1.0, -3.1702, -3.5869, -3.9662, -3.9406, -4.5398, -4.8874, -4.926, -5.0127, -4.8272, -5.071, -5.0738, -5.1138, -5.1453, -5.2724, -5.2716, -5.4188, -5.3707, -5.3096, -5.3806, -5.5901, -5.4237, -5.5925, -5.7886, -5.8822, -5.8797, -5.8144, -5.9111, -5.9369, -5.9944, -5.9488, -5.8804, -3.2835, -3.8477, -4.1492, -4.9132, -4.9424, -5.1668, -5.2188, -5.2149, -5.2025, -5.2438, -5.2878, -5.3681, -5.3727, -5.307, -5.396, -4.7957, -5.4256, -5.6474, -5.5602, -5.6554, -5.6917, -5.7099, -5.7897, -5.8152, -5.785, -5.8995, -5.9087, -5.928, -5.9416, -5.9991, -4.9784, -5.8675], \"loglift\": [30.0, 29.0, 28.0, 27.0, 26.0, 25.0, 24.0, 23.0, 22.0, 21.0, 20.0, 19.0, 18.0, 17.0, 16.0, 15.0, 14.0, 13.0, 12.0, 11.0, 10.0, 9.0, 8.0, 7.0, 6.0, 5.0, 4.0, 3.0, 2.0, 1.0, 0.681, 0.6805, 0.6788, 0.6782, 0.6747, 0.6709, 0.6703, 0.668, 0.6677, 0.6674, 0.6673, 0.6668, 0.6655, 0.6641, 0.6629, 0.6598, 0.6595, 0.659, 0.6587, 0.656, 0.6557, 0.6547, 0.6502, 0.6484, 0.6467, 0.6462, 0.6447, 0.6446, 0.6435, 0.6395, 0.6386, 0.6988, 0.6965, 0.6941, 0.685, 0.6835, 0.6825, 0.6822, 0.682, 0.6819, 0.6811, 0.6797, 0.6794, 0.6783, 0.678, 0.6779, 0.6778, 0.6753, 0.6727, 0.6725, 0.6696, 0.6694, 0.669, 0.6684, 0.6665, 0.6663, 0.664, 0.6619, 0.6613, 0.6602, 0.6599, 0.4906, 0.6138]}, \"token.table\": {\"Topic\": [2, 1, 2, 1, 1, 1, 2, 2, 2, 1, 1, 2, 1, 2, 2, 2, 2, 1, 1, 2, 2, 2, 2, 2, 1, 1, 2, 1, 2, 1, 1, 2, 2, 2, 2, 2, 1, 2, 1, 2, 1, 1, 2, 1, 1, 2, 1, 2, 1, 1, 1, 1, 1, 1, 2, 2, 1, 2, 2, 1, 1, 1, 1, 1, 2, 1], \"Freq\": [1.0022329881124545, 0.09684663280987715, 0.8716196952888944, 0.9634363595143374, 1.00024154280456, 0.9869497108131942, 0.9710435808742589, 0.9615876927858548, 0.9881333345927529, 0.9962022595887389, 0.9700387762909813, 0.9597201400589488, 0.9051034973812565, 0.9947425622770003, 0.9757633783079561, 0.9910456794799948, 0.9832013041880212, 0.9061609595378124, 0.9959292920649511, 0.9818958624092836, 0.9940104394551903, 0.9930494470667793, 1.004123877455946, 1.0011007539733099, 0.9390409954517909, 0.9981388606077183, 0.9716895583289428, 0.03534894963779867, 0.9897705898583627, 0.9485930184632047, 0.9947746895221801, 0.9446700695399501, 0.9253807349196386, 0.9462625349394697, 1.0076715749159186, 0.9462593293658181, 0.9711434500972326, 0.9666134841412732, 0.17596234987273, 0.809426809414558, 0.9611098475678993, 0.9859043630811328, 0.9848770610357812, 0.9906180086847394, 0.9879334885902237, 0.9976215387953313, 0.970136304139337, 0.9530007611525239, 0.9924996603697808, 1.013095744148975, 0.9548296557633122, 0.9719286238050028, 0.9675681676319412, 0.9751347936125635, 0.9780512588147692, 0.9397641644834253, 0.9822719365768341, 0.9992905833028393, 0.9687921266713763, 0.9281582873555299, 1.0003859179709973, 0.9155940391836644, 0.9992247527012478, 0.9529248003886711, 0.9890482279931418, 0.9951159849580602], \"Term\": [\"\\uac08\\uc218\\ub85d\", \"\\uac11\\uc790\\uae30\", \"\\uac11\\uc790\\uae30\", \"\\uacac\\uc790\\ub2e8\", \"\\uacf5\\ud3ec\\uc601\\ud654\", \"\\uadf8\\ub300\\ub85c\", \"\\uadf8\\ub798\\ud53d\", \"\\uadf9\\uc7a5\\ud310\", \"\\uae34\\uc7a5\\uac10\", \"\\ub124\\uc774\\ubc84\", \"\\ub290\\uc640\\ub974\", \"\\ub3c4\\ub300\\uccb4\", \"\\ub3c4\\uc800\\ud788\", \"\\ub4dc\\ub77c\\ub9c8\", \"\\ub85c\\ub9e8\\uc2a4\", \"\\ub9c8\\uc9c0\\ub9c9\", \"\\uba54\\uc138\\uc9c0\", \"\\ubaa9\\uc18c\\ub9ac\", \"\\ubab0\\uc785\\ub3c4\", \"\\ubb34\\uc870\\uac74\", \"\\ubc1c\\uc5f0\\uae30\", \"\\ubd84\\uc704\\uae30\", \"\\ube44\\ub514\\uc624\", \"\\uc2a4\\ub9b4\\ub7ec\", \"\\uc2a4\\ud0c0\\uc77c\", \"\\uc2a4\\ud1a0\\ub9ac\", \"\\uc2dc\\ub098\\ub9ac\\uc624\", \"\\uc2dc\\ub9ac\\uc988\", \"\\uc2dc\\ub9ac\\uc988\", \"\\uc2dc\\uccad\\ub960\", \"\\uc4f0\\ub808\\uae30\", \"\\uc544\\ubc84\\uc9c0\", \"\\uc544\\uc26c\\uc6c0\", \"\\uc544\\uc800\\uc528\", \"\\uc560\\ub2c8\\uba54\\uc774\\uc158\", \"\\uc561\\uc158\\uc601\\ud654\", \"\\uc5bc\\ub9c8\\ub098\", \"\\uc5ec\\ubc30\\uc6b0\", \"\\uc5f0\\uae30\\ub825\", \"\\uc5f0\\uae30\\ub825\", \"\\uc601\\ud654\\uad00\", \"\\uc601\\ud654\\ub85c\", \"\\uc601\\ud654\\uc778\", \"\\uc6b0\\ub9ac\\ub098\\ub77c\", \"\\uc774\\uc57c\\uae30\", \"\\uc774\\uc601\\ud654\", \"\\uc81c\\ub300\\ub85c\", \"\\uc81c\\uc791\\ube44\", \"\\uc8fc\\uc778\\uacf5\", \"\\uc904\\uac70\\ub9ac\", \"\\uc9c0\\ub8e8\\ud568\", \"\\ucc28\\ub77c\\ub9ac\", \"\\ucd5c\\uace0\\ub2e4\", \"\\uce90\\ub9ad\\ud130\", \"\\uce90\\uc2a4\\ud305\", \"\\ucf00\\uc774\\ube14\", \"\\ucf54\\ubbf8\\ub514\", \"\\ud0ac\\ub9c1\\ud0c0\\uc784\", \"\\ud310\\ud0c0\\uc9c0\", \"\\ud3c9\\ub860\\uac00\", \"\\ud3ec\\uc2a4\\ud130\", \"\\ud504\\ub791\\uc2a4\", \"\\ud55c\\uad6d\\uc601\", \"\\ud55c\\ub9c8\\ub514\", \"\\ud654\\uc774\\ud305\", \"\\ud765\\ubbf8\\uc9c4\\uc9c4\"]}, \"R\": 30, \"lambda.step\": 0.01, \"plot.opts\": {\"xlab\": \"PC1\", \"ylab\": \"PC2\"}, \"topic.order\": [2, 1]};\n",
              "\n",
              "function LDAvis_load_lib(url, callback){\n",
              "  var s = document.createElement('script');\n",
              "  s.src = url;\n",
              "  s.async = true;\n",
              "  s.onreadystatechange = s.onload = callback;\n",
              "  s.onerror = function(){console.warn(\"failed to load library \" + url);};\n",
              "  document.getElementsByTagName(\"head\")[0].appendChild(s);\n",
              "}\n",
              "\n",
              "if(typeof(LDAvis) !== \"undefined\"){\n",
              "   // already loaded: just create the visualization\n",
              "   !function(LDAvis){\n",
              "       new LDAvis(\"#\" + \"ldavis_el1111402726683621124121589129\", ldavis_el1111402726683621124121589129_data);\n",
              "   }(LDAvis);\n",
              "}else if(typeof define === \"function\" && define.amd){\n",
              "   // require.js is available: use it to load d3/LDAvis\n",
              "   require.config({paths: {d3: \"https://d3js.org/d3.v5\"}});\n",
              "   require([\"d3\"], function(d3){\n",
              "      window.d3 = d3;\n",
              "      LDAvis_load_lib(\"https://cdn.jsdelivr.net/gh/bmabey/pyLDAvis@3.3.1/pyLDAvis/js/ldavis.v3.0.0.js\", function(){\n",
              "        new LDAvis(\"#\" + \"ldavis_el1111402726683621124121589129\", ldavis_el1111402726683621124121589129_data);\n",
              "      });\n",
              "    });\n",
              "}else{\n",
              "    // require.js not available: dynamically load d3 & LDAvis\n",
              "    LDAvis_load_lib(\"https://d3js.org/d3.v5.js\", function(){\n",
              "         LDAvis_load_lib(\"https://cdn.jsdelivr.net/gh/bmabey/pyLDAvis@3.3.1/pyLDAvis/js/ldavis.v3.0.0.js\", function(){\n",
              "                 new LDAvis(\"#\" + \"ldavis_el1111402726683621124121589129\", ldavis_el1111402726683621124121589129_data);\n",
              "            })\n",
              "         });\n",
              "}\n",
              "</script>"
            ]
          },
          "metadata": {},
          "execution_count": 135
        }
      ]
    },
    {
      "cell_type": "code",
      "source": [
        "labels = data['label'].iloc[:10000].values\n",
        "print(labels.shape)\n",
        "print(labels[:5])"
      ],
      "metadata": {
        "colab": {
          "base_uri": "https://localhost:8080/"
        },
        "id": "ZExuRbX3ZPBS",
        "outputId": "2c862532-9b75-44a4-c2fa-119d68a700fc"
      },
      "execution_count": null,
      "outputs": [
        {
          "output_type": "stream",
          "name": "stdout",
          "text": [
            "(10000,)\n",
            "[0 1 0 0 1]\n"
          ]
        }
      ]
    },
    {
      "cell_type": "code",
      "source": [
        "# 로지스틱 분류 모델링 객체를 생성\n",
        "lr = LogisticRegression()\n",
        "\n",
        "# TF-IDF 벡터를 입력하여 모델 학습\n",
        "lr.fit(review_tfid, labels)"
      ],
      "metadata": {
        "colab": {
          "base_uri": "https://localhost:8080/"
        },
        "id": "piBpxxyTZQ_f",
        "outputId": "98223acd-170a-4111-c01c-f20a0db2ae6f"
      },
      "execution_count": null,
      "outputs": [
        {
          "output_type": "execute_result",
          "data": {
            "text/plain": [
              "LogisticRegression()"
            ]
          },
          "metadata": {},
          "execution_count": 139
        }
      ]
    },
    {
      "cell_type": "code",
      "source": [
        "# 첫 번째 샘플을 이용하여 모델 예측\n",
        "pred = lr.predict(review_tfid[0])\n",
        "print(pred)"
      ],
      "metadata": {
        "colab": {
          "base_uri": "https://localhost:8080/"
        },
        "id": "HxSc3DSjZS-E",
        "outputId": "87551567-7327-4a8c-c777-2c73ad04e0e6"
      },
      "execution_count": null,
      "outputs": [
        {
          "output_type": "stream",
          "name": "stdout",
          "text": [
            "[0]\n"
          ]
        }
      ]
    },
    {
      "cell_type": "code",
      "source": [
        "# 판다스 데이터프레임로 읽어오기\n",
        "test = pd.read_csv('samples.csv')\n",
        "\n",
        "# 결측치 제거\n",
        "test.dropna()\n",
        "\n",
        "print(test['movie'].unique())"
      ],
      "metadata": {
        "colab": {
          "base_uri": "https://localhost:8080/"
        },
        "id": "bZMX0vCzZU2d",
        "outputId": "bfab5737-e21c-4c58-c46c-e4eccc3e8233"
      },
      "execution_count": null,
      "outputs": [
        {
          "output_type": "stream",
          "name": "stdout",
          "text": [
            "['타이타닉' '애프터썬' '하모니' '굿바이 마이 프랜드' '다음 소희' '교섭' '더 퍼스트 슬램덩크' '인피에스토'\n",
            " '맘마미아!' '아미 오브 더 데드' '유령' '상견니' '우리 사랑이 향기로 남을 때' '바빌론' '영웅' '메모리아' '베놈'\n",
            " '아바타: 물의 길' '나는 나를 해고하지 않는다' '스위치' '만인의 연인' 'RRR: 라이즈 로어 리볼트'\n",
            " '궁지에 몰린 쥐는 치즈 꿈을 꾼다' '성스러운 거미' '갱' '마이웨이' '고질라 VS. 콩' '어쩌면 우린 헤어졌는지 모른다'\n",
            " '아이리시맨' '가재가 노래하는 곳' '네가 떨어뜨린 푸른 하늘' '리멤버' '크로우즈 제로 2' '이상한 나라의 수학자'\n",
            " '기방도령' '영화 크레용 신짱: 폭풍을 부르는 모레츠! 오토나 제국의 역습' '토르: 러브 앤 썬더' '산상수훈' '멋진 하루'\n",
            " '곡성(哭聲)' '자백' '협상' '오늘 밤, 세계에서 이 사랑이 사라진다 해도' '첼로 - 홍미주 일가 살인사건'\n",
            " '당신, 거기 있어줄래요' '신의 분노' '디텍티브 나이트: 가면의 밤' '원피스 필름 레드' '창수' '쌍화점' '아저씨'\n",
            " '패닉 런' '헤어질 결심' '올빼미' '그대가 조국' '#살아있다' '블랙 팬서: 와칸다 포에버' '뷰티풀 마인드'\n",
            " '그래도 좋아해' '메간' '앰뷸런스' '트윈' '샹치와 텐 링즈의 전설' '늑대와 춤을' '브이 포 벤데타' '헬보이'\n",
            " '내부자들' '스펜서' '트루 스피릿' '패싱' '킬 유어 달링' '국제시장' '지푸라기라도 잡고 싶은 짐승들' '레미니센스'\n",
            " '세자매' '아수라' '서복' '시간이탈자' '우리들의 일기' '기적' '소녀' '극장판 귀멸의 칼날: 무한열차편' '범죄도시2'\n",
            " '주토피아' '씽2게더' '귀못' '동감' '맨 인 블랙: 인터내셔널' '너의 이름은.' '장화신은 고양이: 끝내주는 모험'\n",
            " '두번째 사랑' '창공으로' '미라클 프롬 헤븐' '시라노; 연애조작단' '언니가 간다' '해시태그 시그네' '문폴'\n",
            " '게임의 법칙' '라이언 일병 구하기' '이마 베프' '위대한 쇼맨' '자녀목' '이클립스' '굿바이, 입술' '라라랜드'\n",
            " '와니와 준하' '혐오스런 마츠코의 일생' '레이디 버드' '콰이어트 플레이스 2' '늑대사냥' '연애 빠진 로맨스'\n",
            " '크리스마스 캐럴' '내 어깨 위 고양이, 밥 2' '밀양' '양들의 침묵' '밀리언 달러 베이비' '은교' '수상한 고객들'\n",
            " '파 앤드 어웨이' '하나 그리고 둘' '조커' '싸움' '후궁 : 제왕의 첩' '베놈 2: 렛 데어 비 카니지' '원더' '업'\n",
            " '프리 가이' 'F20' '방탄소년단: 옛 투 컴 인 시네마' '천룡팔부: 교봉전' '머슴 바울' '살인의 추억' '겟 아웃'\n",
            " '원피스 필름 골드' '정이' '소공녀' '레이버 데이' '7광구' '궁녀' '몬스터 하우스2: 인비져블 피닉스' '라인'\n",
            " '아빠가 되는 중' '20세기 소녀' '이웃사람' '인스턴트 패밀리' '남한산성' '체실 비치에서' '사랑의 동반자' '진범'\n",
            " '나이브스 아웃: 글래스 어니언' '관계의 일변' '타오르는 여인의 초상' '3000년의 기다림' 'B컷' '호라이즌 라인' '활'\n",
            " '나자리노' '마녀(魔女) Part2. The Other One' '유랑의 달' '비상선언' '인투 더 와일드' '기억의 밤'\n",
            " '러브 앤 몬스터스' '작가 미상' '씬 시티' '방법: 재차의' '극장판 전생했더니 슬라임이었던 건에 대하여: 홍련의 인연편'\n",
            " '매트릭스' '인간중독' '원스 어폰 어 타임 인 아메리카' '헌트' '타짜: 원 아이드 잭' '핀치' '좋은 날' '미션'\n",
            " '걸스 인 더 케이지' '인 타임' '차이나 문' '롤러코스터' '퍼플 하트' '미션 임파서블' '스파이더맨: 노 웨이 홈'\n",
            " '카센타' '나 홀로 집에' '킬링 소프틀리' '레이크뷰 테라스' '타짜-신의 손' '마틸다' '워크래프트: 전쟁의 서막'\n",
            " '패션왕' '외계+인 1부' '썸머 필름을 타고!' 'DC 리그 오브 슈퍼-펫' '어웨이크' '정직한 후보2' '라이프'\n",
            " '레 미제라블' '해탄적일천' '창밖은 겨울' '라일 라일 크로커다일' '분노의 질주: 더 얼티메이트' '쓰루 더 파이어'\n",
            " '드라이브' '프리스트' '더블 크라임' '토마스 크라운 어페어' '젠틀맨' '폴: 600미터' '담보' '트롤의 습격'\n",
            " '찰리 컨트리맨' '강남좀비' '꽃다발 같은 사랑을 했다' '메이즈 러너: 데스 큐어' '쥬만지: 넥스트 레벨'\n",
            " '조선명탐정: 흡혈괴마의 비밀' '마녀' '붉은 강' '센과 치히로의 행방불명' '앵커' '신비한 동물들과 덤블도어의 비밀'\n",
            " '니 부모 얼굴이 보고 싶다' '와일드 마운틴 타임' '바바둑' '뜨거운 안녕' '나의 PS 파트너' '북촌방향' '사랑해, 파리'\n",
            " '여자전쟁: 여자의 이유' '얼굴없는 보스' '빠삐용' '인생은 아름다워' '투캅스' '화양연화' '포레스트 검프'\n",
            " '알카트라즈 탈출' '서부 전선 이상 없다' '브로커' '월터의 상상은 현실이 된다' '어린왕자' '아웃핏'\n",
            " '조제, 호랑이 그리고 물고기들' '언터처블' '존 말코비치 되기' '클리프행어' '스타 이즈 본' '원라인'\n",
            " '누가 붉은 장미를 꺾었나' '장미의 이름' '보이스' '써니' '용의자X' '성냥공장 소녀' '특송' '비긴 어게인'\n",
            " '애드 아스트라' '걸리버 여행기' '조 블랙의 사랑' '흥부와 놀부' '더 웨이 홈' '더 스위머스' '압꾸정' '그린 나이트'\n",
            " '여름날 우리' '탐정 홍길동: 사라진 마을' '필링 미네소타' '성원' '해바라기'\n",
            " '눈의 여왕5: 스노우 프린세스와 미러랜드의 비밀' '백두산' '극장판 짱구는 못말려: 수수께끼! 꽃피는 천하떡잎학교' '보이후드'\n",
            " '삼거리 극장' '벤자민 버튼의 시간은 거꾸로 간다' '어바웃 타임' '극장판 겁쟁이 페달' '새비지 맨' '빈 집'\n",
            " '블랙 위도우' '계춘할망' '네 무덤에 침을 뱉어라 2' '우리의 20세기' '스플래쉬' '회사원' '8월의 크리스마스'\n",
            " '덕수리 5형제' '문맨' '라스트 홀리데이' '배트맨 비긴즈' '장미빛 인생' '극장판 유루캠△' '드라이브 마이 카'\n",
            " '고속도로 가족' '임금님의 사건수첩' '노팅 힐' '레베카' '서치' '지금은맞고그때는틀리다' '존 윅 3: 파라벨룸'\n",
            " '영화 크레용 신짱: 초폭풍을 부르는 금창의 용사' '패딩턴 2' '더 메뉴' '소울' '폭격' '1번가의 기적' '사라진 시간'\n",
            " '플라이트 93' '원펀치' '기문둔갑' '판의 미로 - 오필리아와 세 개의 열쇠' '지금, 만나러 갑니다' '나르비크' '딥워터'\n",
            " '꽃피는 봄이 오면' '세이레' '이웃집에 신이 산다' '이태석' '완벽한 타인' '디보션' '퍼펙트 게임' '세븐' '반창꼬'\n",
            " '아메리칸 셰프' '부라더' '장르만 로맨스' '옥토버 스카이' '비바리움' '태일이' '강철비2: 정상회담'\n",
            " '달콤, 살벌한 연인' '극장판 헬로카봇: 수상한 마술단의 비밀' '블랙 아담' '더 플랫폼' '해적: 도깨비 깃발'\n",
            " '쓰리: 서바이벌 아일랜드' '짱구는 못말려 극장판: 초시공! 태풍을 부르는 나의 신부' '제8일의 밤'\n",
            " '에브리씽 에브리웨어 올 앳 원스' '국제수사']\n"
          ]
        }
      ]
    },
    {
      "cell_type": "code",
      "source": [
        "# 워드 클라우드에 사용할 명사\n",
        "nouns = []\n",
        "\n",
        "def Analyze(test_sample):\n",
        "  global po_cnt\n",
        "  # 한글을 제외하고 전부 제거\n",
        "  test_sample = re.sub(r\"[^가-힣]\", \"\", test_sample)\n",
        "\n",
        "  # 세 글자 이상의 명사만을 추출\n",
        "  tokens = okt.nouns(test_sample)\n",
        "  cleaned_tokens = []\n",
        "  for word in tokens:\n",
        "      nouns.append(word)\n",
        "      if len(word) > 2:\n",
        "          cleaned_tokens.append(word)\n",
        "      else:\n",
        "          pass\n",
        "  cleaned_review = \" \".join(cleaned_tokens)\n",
        "  # TF-IDF 변환기에 데이터를 입력하여 변환\n",
        "  test_review_tfid = tfid.transform([cleaned_review])\n",
        "\n",
        "  # 로지스틱 회귀 모델을 활용하여 분류 예측\n",
        "  test_pred = lr.predict(test_review_tfid)[0]\n",
        "  if test_pred > 0:\n",
        "    response = \"긍정\"\n",
        "    po_cnt += 1\n",
        "  else:\n",
        "    response = \"부정\"\n",
        "  print(\"-분석 결과 {}적인 리뷰로 예측됩니다.-\\n\".format(response))\n",
        "'''\n",
        "name = input(\"영화 제목을 입력해주세요.\")\n",
        "po_cnt = 0\n",
        "cnt = 0\n",
        "\n",
        "for test_sample in test.loc[test['movie'] == name,'sentence']:\n",
        "  cnt += 1\n",
        "  print(test_sample)\n",
        "  Analyze(test_sample)\n",
        "\n",
        "if po_cnt > (cnt - po_cnt):\n",
        "  print(f\"{name} 영화는 긍적적인 리뷰가 많습니다.\")\n",
        "elif po_cnt < (cnt - po_cnt):\n",
        "  print(f\"{name} 영화는 부정적인 리뷰가 많습니다.\")\n",
        "else:\n",
        "  print(f\"{name} 영화는 긍적적인 리뷰와 부정적인 리뷰가 동등합니다.\")'''"
      ],
      "metadata": {
        "colab": {
          "base_uri": "https://localhost:8080/"
        },
        "id": "oZbWTSPBZVXx",
        "outputId": "074a883b-49ec-4ece-c1d8-2a1a0d172de9"
      },
      "execution_count": null,
      "outputs": [
        {
          "output_type": "stream",
          "name": "stdout",
          "text": [
            "영화 제목을 입력해주세요.타이타닉\n",
            "이 영화 안 본 눈 삽니다\n",
            "-분석 결과 긍정적인 리뷰로 예측됩니다.-\n",
            "\n",
            "몆년이 지나도 최고의 명작♡\n",
            "-분석 결과 부정적인 리뷰로 예측됩니다.-\n",
            "\n",
            "진짜 역시 명작은 명작이라고 불리는 이유가 있습니다.... 꼭 IMAX로 관람하시길 바랍니다.\n",
            "-분석 결과 긍정적인 리뷰로 예측됩니다.-\n",
            "\n",
            "타이타닉 디카프리오 케이트윈슬렛 사랑해\n",
            "-분석 결과 긍정적인 리뷰로 예측됩니다.-\n",
            "\n",
            "깊고 푸른 바다에 버려요, 아직도 숨 쉬고 있는 잭 그리고 음악이 끝나지 않는 타이타닉이 잠겨있는 그 곳에...\n",
            "-분석 결과 긍정적인 리뷰로 예측됩니다.-\n",
            "\n",
            "긴 말 안함 최고였음\n",
            "-분석 결과 긍정적인 리뷰로 예측됩니다.-\n",
            "\n",
            "역대 최고의 명작이에요 ㅠ 인생영화입니다 ..극장에서 볼수 있음에 그저 감사..\n",
            "-분석 결과 긍정적인 리뷰로 예측됩니다.-\n",
            "\n",
            "기어코 내 마음도 같이 가라앉아버렸네. \n",
            "-분석 결과 긍정적인 리뷰로 예측됩니다.-\n",
            "\n",
            "명작은 몇 번을 봐도 또 다시 찾게 되는 것같다..\n",
            "-분석 결과 긍정적인 리뷰로 예측됩니다.-\n",
            "\n",
            "타이타닉 존버타다 드디어 오늘 봤다.. 후회 안해 그냥 미쳤다.\n",
            "-분석 결과 긍정적인 리뷰로 예측됩니다.-\n",
            "\n",
            "3D가 최고의 결함이다\n",
            "-분석 결과 긍정적인 리뷰로 예측됩니다.-\n",
            "\n",
            "제임스 카메론의 연출이 대단한 영화\n",
            "-분석 결과 긍정적인 리뷰로 예측됩니다.-\n",
            "\n",
            "모든게 완벽하다 이 이상으로 말 못하겠음\n",
            "-분석 결과 긍정적인 리뷰로 예측됩니다.-\n",
            "\n",
            "별점 10개가 최대? 더가져와요 더 눈 밤톨이 되기 딱 좋은 영화 너무 재미써요 ㅠㅠ\n",
            "-분석 결과 긍정적인 리뷰로 예측됩니다.-\n",
            "\n",
            "정말 행복한 3시간이었어요. 제가 할 수 있는 최고의 찬사로 축복하고 싶은 영화였습니다. 배우들의 연기와 연출력은 말할 것도 없이 훌륭했고요. 러닝타임이 긴 영화는 지루해서 힘겨운 적이 다반사였지만 전혀 지루하지 않고 재밌게 관람한 영화였습니다. 이걸 극장에서 처음보게 되어 너무 좋았어요. 며칠 뒤 다시 볼 예정입니다. 휴대폰으로 보기엔 너무 아쉬운 영화.\n",
            "-분석 결과 긍정적인 리뷰로 예측됩니다.-\n",
            "\n",
            "강추입니다!! 아이맥스 3D 관람했는데, 3D라서가 아니라 몇 번을 봐도 타이타닉 영화 자체가 감동입니다. 그렇지만, 마지막 장면 시계 앞에서 기다리고 있는 디카프리오는 3D라 너무 좋았습니다~ 그가 내민 손 잡고 싶습니다.\n",
            "-분석 결과 긍정적인 리뷰로 예측됩니다.-\n",
            "\n",
            "3시간동안 타이타닉호에 승선한 꿈을 꾸다나온 느낌\n",
            "-분석 결과 긍정적인 리뷰로 예측됩니다.-\n",
            "\n",
            "명작은 시대를 가리지 않는다.\n",
            "-분석 결과 긍정적인 리뷰로 예측됩니다.-\n",
            "\n",
            "타이타닉 타이타닉타이타닉\n",
            "-분석 결과 긍정적인 리뷰로 예측됩니다.-\n",
            "\n",
            "이런 남자 어디 없나 디카프리오는 신이다.\n",
            "-분석 결과 긍정적인 리뷰로 예측됩니다.-\n",
            "\n",
            "명작이 명작인데는 다 이유가 있다.연출이며 스토리며 OST며 뭐 하나 빼놓을 게 없다.\n",
            "-분석 결과 부정적인 리뷰로 예측됩니다.-\n",
            "\n",
            "정말 25주년 4K 3D로 보니 정말 새로워다 즐리지않은 영화\n",
            "-분석 결과 긍정적인 리뷰로 예측됩니다.-\n",
            "\n",
            "어렸을 때 봤는데ㅜㅜ 다시 영화관에서 보니까 어찌나 반갑고 또 슬픈지ㅜㅜ디카프리오 리즈시절 너무 멋있네요.마지막 장면 어쩔거에요ㅜㅜ\n",
            "-분석 결과 긍정적인 리뷰로 예측됩니다.-\n",
            "\n",
            "영화는 정말 재밌고 감동도 있는데 저만 눈물이 안나나요? 사람들은 다 눈물흘리던데 저만 안흘림\n",
            "-분석 결과 긍정적인 리뷰로 예측됩니다.-\n",
            "\n",
            "영원히 기억될 불멸의 걸작\n",
            "-분석 결과 긍정적인 리뷰로 예측됩니다.-\n",
            "\n",
            "그저 영화관에서 볼 수 있음에 감사할 뿐.배는 침몰했으나 사람들의 심장은 아직 남아있다.\n",
            "-분석 결과 부정적인 리뷰로 예측됩니다.-\n",
            "\n",
            "이 미친 영화를 극장에서 볼수 있어 좋았지만3D로만 개봉한건  너무 아쉽다\n",
            "-분석 결과 긍정적인 리뷰로 예측됩니다.-\n",
            "\n",
            "타이타닉~~ 인생영화중 한편\n",
            "-분석 결과 긍정적인 리뷰로 예측됩니다.-\n",
            "\n",
            "말이 필요없는 최고의 영화.\n",
            "-분석 결과 긍정적인 리뷰로 예측됩니다.-\n",
            "\n",
            "몇 번을 다시봐도 아련한 명작\n",
            "-분석 결과 긍정적인 리뷰로 예측됩니다.-\n",
            "\n",
            "오늘 처음봤는데 명작 영화 인정.. 여운이 남는다..\n",
            "-분석 결과 긍정적인 리뷰로 예측됩니다.-\n",
            "\n",
            "나 인생 영화인생 음악최고의 영화입니다\n",
            "-분석 결과 긍정적인 리뷰로 예측됩니다.-\n",
            "\n",
            "재밌게 봤습니다.\n",
            "-분석 결과 긍정적인 리뷰로 예측됩니다.-\n",
            "\n",
            "아직 안보신분들 꼭보세요 인생영화입니다\n",
            "-분석 결과 긍정적인 리뷰로 예측됩니다.-\n",
            "\n",
            "존잼 미쳤음 디카프리오 얼굴도\n",
            "-분석 결과 긍정적인 리뷰로 예측됩니다.-\n",
            "\n",
            "걸작이라는 단어에 이토록 어울리는 작품이 있을까\n",
            "-분석 결과 긍정적인 리뷰로 예측됩니다.-\n",
            "\n",
            "명작은 명작이라고 불리우는 이유가 있다. 이 영화를 영화관에서 볼 수 있어서 너무 행복했습니다.\n",
            "-분석 결과 부정적인 리뷰로 예측됩니다.-\n",
            "\n",
            "3d라 좀 걱정했었는데ㅠ보다보니 쓰리디인것도 까먹고 몰입하게 됐음 왜 사람들이 타이타닉 타이타닉 하는지 느꼈다…이게 영화구나! 긴 러닝타임 동안 단 한순간도 지루하지 않았음 대사부터 연기,연출까지 완벽함 그냥 더이상 할 말이 없음\n",
            "-분석 결과 긍정적인 리뷰로 예측됩니다.-\n",
            "\n",
            "3d만 재개봉이라 아쉬웠지만 좋았습니다\n",
            "-분석 결과 긍정적인 리뷰로 예측됩니다.-\n",
            "\n",
            "영화 처음 봤던 그때로 다시 돌아가고 싶다 ㅠㅠ \n",
            "-분석 결과 긍정적인 리뷰로 예측됩니다.-\n",
            "\n",
            "러닝 타임 내내 레오 리즈시절 미모에 감탄하다가도 마지막으로 바이올린을 켤때는 울컥할 수 밖에 없었다,, 덤으로 엔딩 크레딧 때 영화관을 가득 메우는 셀린디온 OST는 감동 그 자체\n",
            "-분석 결과 긍정적인 리뷰로 예측됩니다.-\n",
            "\n",
            "말이 필요 없는 명작 중의 명작 그냥 무조건 보세요\n",
            "-분석 결과 긍정적인 리뷰로 예측됩니다.-\n",
            "\n",
            "역대급 영화. 개봉한지 28년이 넘었지만 영상미가 전혀 촌스럽지않음. 아이맥스 3d로 봤는데 정말 보기 잘한듯.\n",
            "-분석 결과 부정적인 리뷰로 예측됩니다.-\n",
            "\n",
            "명작은 언제봐도 명작이네요\n",
            "-분석 결과 긍정적인 리뷰로 예측됩니다.-\n",
            "\n",
            "1998년4월 지금은 옶어진 영등포의 영화관에서본이후 25년만에 같은 영등포의 60일전 제임스 카메론 감독이 왔던 타임스퀘어에서 개봉일 첫 타임에 봄    타이타닉이랑 아바타 둘다 흥했으면\n",
            "-분석 결과 부정적인 리뷰로 예측됩니다.-\n",
            "\n",
            "보고 눈물 콧물 질질 짰다… 이 영화가 이제부터 내 인생영화\n",
            "-분석 결과 긍정적인 리뷰로 예측됩니다.-\n",
            "\n",
            "명작이 명작인 덴 이유가 다 있다.. 줄줄 울었음디카프리오 얼굴이 진짜 환상\n",
            "-분석 결과 긍정적인 리뷰로 예측됩니다.-\n",
            "\n",
            "진짜 25년전에 이런 영화를 만들었을까...수십번봤지만 마지막 시계장면은 저항없이울음이 터졌다.진짜 타이타닉을 영화관에서볼수있는 기회가 생긴게 너무 행복명작은 아무리보아도 질리지않는다\n",
            "-분석 결과 부정적인 리뷰로 예측됩니다.-\n",
            "\n",
            "너무 좋아요 계속 생각나요\n",
            "-분석 결과 긍정적인 리뷰로 예측됩니다.-\n",
            "\n",
            "다섯살때 부모님따라 극장서보고 열아홉때 친구들과 극장에서 재개봉보고 서른살에 또 다시 극장에서 보게 돼 감사하다. 볼때마다 느끼는게 달라지는 거장의 섬세한 스토리. \n",
            "-분석 결과 긍정적인 리뷰로 예측됩니다.-\n",
            "\n",
            "너무 재밌어요!ㅜㅜㅜㅜ\n",
            "-분석 결과 긍정적인 리뷰로 예측됩니다.-\n",
            "\n",
            "세상이 우리를 갈라놓을지라도\n",
            "-분석 결과 긍정적인 리뷰로 예측됩니다.-\n",
            "\n",
            "내 인생영화! 영화관에서 다시 볼 수 있음에 감사하다. ost를 들으면 온몸에 전율이 느껴진다!! \n",
            "-분석 결과 부정적인 리뷰로 예측됩니다.-\n",
            "\n",
            "진짜 개슬프다 타이타닉 이름만 알고 예고편도 안보고 누구나온지도 장르가 먼지도 모르고 보기전까지 친구한테 아윌비백 이지랄했는데 개슬프다 2023 첫 오열 개슬프다 꼭 봐 안보면 인생 손해본거다 꼭 봐라 18년 인생 레전드 영화였다... 맨날 투디만 보던 내가 처음으로 잡은 인간영화다 제발 제발 꼭 봐....\n",
            "-분석 결과 부정적인 리뷰로 예측됩니다.-\n",
            "\n",
            "명작을 영화관에서 다시 볼 수 있어서 감사합니다\n",
            "-분석 결과 부정적인 리뷰로 예측됩니다.-\n",
            "\n",
            "그냥 레전드 영화입니다 ㅋㅋ\n",
            "-분석 결과 긍정적인 리뷰로 예측됩니다.-\n",
            "\n",
            "세월이 오래지난 후에 봐도 재밌어요\n",
            "-분석 결과 긍정적인 리뷰로 예측됩니다.-\n",
            "\n",
            "영원한 명작이네요\n",
            "-분석 결과 긍정적인 리뷰로 예측됩니다.-\n",
            "\n",
            "올타임 레전드. \n",
            "-분석 결과 긍정적인 리뷰로 예측됩니다.-\n",
            "\n",
            "아바타로 3D영화의 혁명을 일으킨 제임스 카메론 감독의 불멸의 명작이자 4K 리마스터링으로 다시 재탄생한 세기의 명작\n",
            "-분석 결과 긍정적인 리뷰로 예측됩니다.-\n",
            "\n",
            "인류가 존재하는한 영화 역사에 영원히 기록되어질 명작\n",
            "-분석 결과 긍정적인 리뷰로 예측됩니다.-\n",
            "\n",
            "부족할 수가 없는 영화????\n",
            "-분석 결과 긍정적인 리뷰로 예측됩니다.-\n",
            "\n",
            "내가 처음부터 끝까지 내용 전부 다 알고 대사까지 다 기억나도록 많이 봤지만 영화관가서 볼건데 이건 진짜 이유가 있다.. 명작.. 내 인생영화\n",
            "-분석 결과 부정적인 리뷰로 예측됩니다.-\n",
            "\n",
            "이런영화 또 다시 있을까?\n",
            "-분석 결과 긍정적인 리뷰로 예측됩니다.-\n",
            "\n",
            "다 좋은데 재개봉을 너무 자주한다.\n",
            "-분석 결과 긍정적인 리뷰로 예측됩니다.-\n",
            "\n",
            "저는 개인적으로 타이타닉보다 유령이 더 재밌는거 같습니다\n",
            "-분석 결과 긍정적인 리뷰로 예측됩니다.-\n",
            "\n",
            "누구든 인생 탑 3에 들 명작\n",
            "-분석 결과 긍정적인 리뷰로 예측됩니다.-\n",
            "\n",
            "영화역사상 가장 흥행한 영화. 극장인프라가 예전이 더 적으므로 진짜 흥행1등은 타이타닉인 셈아닌가요 ㅠㅠ 역시 최고네요.\n",
            "-분석 결과 긍정적인 리뷰로 예측됩니다.-\n",
            "\n",
            "타이타닉을 처음 봤을때로 돌아가고 싶다 그 감동을 다시 한 번 느끼고 싶어\n",
            "-분석 결과 긍정적인 리뷰로 예측됩니다.-\n",
            "\n",
            "잭은 자유를, 로즈는 사랑을 선물했다.\n",
            "-분석 결과 긍정적인 리뷰로 예측됩니다.-\n",
            "\n",
            "진짜 학생때 보고 몇 년째 내 배경화면인 ,,, 감동 + 눈물 하 너무...사랑해요.. 무조건 보시길 바람 ㅠㅠ\n",
            "-분석 결과 긍정적인 리뷰로 예측됩니다.-\n",
            "\n",
            "나노나나넎너나나너나나나나\n",
            "-분석 결과 긍정적인 리뷰로 예측됩니다.-\n",
            "\n",
            "타이타닉 영화는 긍적적인 리뷰가 많습니다.\n"
          ]
        }
      ]
    },
    {
      "cell_type": "code",
      "source": [
        "# 명사 데이터 프레임으로 변환\n",
        "df_word = pd.DataFrame({'word' : nouns})\n",
        "\n",
        "# 글자 수 추가\n",
        "df_word['count'] = df_word['word'].str.len()\n",
        "\n",
        "# 두 글자 이상 단어만 남기기\n",
        "df_word = df_word.query('count >= 2')\n",
        "df_word.sort_values('count')\n",
        "\n",
        "# 단어 빈도 구하기\n",
        "df_word = df_word.groupby('word', as_index = False).agg(n = ('word', 'count')).sort_values('n', ascending = False)\n",
        "\n",
        "# 데이터 프레임을 딕셔너리로 변환\n",
        "\n",
        "dic_word = df_word.set_index('word').to_dict ()['n']"
      ],
      "metadata": {
        "id": "_ssHXjwTu1P-"
      },
      "execution_count": null,
      "outputs": []
    },
    {
      "cell_type": "code",
      "source": [
        "# 폰트와 클라우드 icon지정\n",
        "font = 'NanumSquareRoundB.ttf'\n",
        "icon = PIL.Image.open('free-icon-cloud-796091.png')\n",
        "\n",
        "img = PIL.Image.new('RGB', icon.size, (255, 255, 255))\n",
        "img.paste(icon, icon)\n",
        "img = np.array(img)\n",
        "\n",
        "# 워드 클라우드 객체생성\n",
        "wc = WordCloud(random_state= 1234, width = 400, height = 400, font_path = font, background_color= 'white', mask = img)\n",
        "\n",
        "# 워드 클라우드 만들기\n",
        "img_wordcloud = wc.generate_from_frequencies(dic_word)\n",
        "\n",
        "# 워드 클라우드 출력하기\n",
        "plt.figure(figsize = (10, 10))\n",
        "plt.axis('off')\n",
        "plt.imshow(img_wordcloud)\n"
      ],
      "metadata": {
        "colab": {
          "base_uri": "https://localhost:8080/",
          "height": 593
        },
        "id": "voWT0v7j9XiX",
        "outputId": "9d40a795-b115-4f77-8b5e-e0e5e5dbaa32"
      },
      "execution_count": null,
      "outputs": [
        {
          "output_type": "execute_result",
          "data": {
            "text/plain": [
              "<matplotlib.image.AxesImage at 0x7f93c1533250>"
            ]
          },
          "metadata": {},
          "execution_count": 175
        },
        {
          "output_type": "display_data",
          "data": {
            "text/plain": [
              "<Figure size 720x720 with 1 Axes>"
            ],
            "image/png": "[encoded data removed]"
          },
          "metadata": {
            "needs_background": "light"
          }
        }
      ]
    }
  ],
  "metadata": {
    "colab": {
      "provenance": []
    },
    "kernelspec": {
      "display_name": "Python 3",
      "name": "python3"
    },
    "language_info": {
      "name": "python"
    }
  },
  "nbformat": 4,
  "nbformat_minor": 0
}